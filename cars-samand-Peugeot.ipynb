{
 "cells": [
  {
   "cell_type": "markdown",
   "metadata": {},
   "source": [
    "<center><div style=\"direction:rtl;font-family:B Lotus, B Nazanin, Tahoma\"> پروژه کلاسی یادگیری عمیق جهاد دانشگاهی دانشگاه شریف  </div></center>\n",
    "<h1><center><div style=\"direction:rtl;font-family:B Lotus, B Nazanin, Tahoma\">  این پروژه با استفاده از مفهوم انتقال یادگیری انجام شده است </h1>"
   ]
  },
  {
   "cell_type": "markdown",
   "metadata": {
    "collapsed": true
   },
   "source": [
    "\n",
    "<h1><center><div style=\"direction:rtl;font-family:B Lotus, B Nazanin, Tahoma\"> در این پروژه 44 تصویر از خودرو پژو 206 و 39 تصویر از خودرو سمند از زوایای مختلف با بک گراندهای مختلف و نور پس زمینه مختلف برای دیتای \"آموزشی\" جمع آوری شده است    </h1>"
   ]
  },
  {
   "cell_type": "markdown",
   "metadata": {},
   "source": [
    "<h1><center><div style=\"direction:rtl;font-family:B Lotus, B Nazanin, Tahoma\"> همچنین 15 تصویر از خودرو پژو 206 و 18 تصویر از خودرو سمند (تقریبا به اندازه 30% داده های آموزشی) از زوایای مختلف با بک گراندهای مختلف و نور پس زمینه مختلف برای دیتای \"تست و اعتباررسنجی\" جمع آوری شده است</h1>"
   ]
  },
  {
   "cell_type": "code",
   "execution_count": 2,
   "metadata": {},
   "outputs": [
    {
     "name": "stderr",
     "output_type": "stream",
     "text": [
      "Using TensorFlow backend.\n"
     ]
    },
    {
     "data": {
      "text/plain": [
       "'2.2.2'"
      ]
     },
     "execution_count": 2,
     "metadata": {},
     "output_type": "execute_result"
    }
   ],
   "source": [
    "import keras\n",
    "keras.__version__"
   ]
  },
  {
   "cell_type": "markdown",
   "metadata": {},
   "source": [
    "<div style=\"direction:rtl;text-align:right;font-family:Tahoma\">\n",
    "کدها  برگرفته از نت بوک یادگیری انتقالی شماره 13 جناب آقای مهندس اخوان پور میباشد\n",
    "</div>\n",
    "\n"
   ]
  },
  {
   "cell_type": "code",
   "execution_count": 3,
   "metadata": {},
   "outputs": [],
   "source": [
    "from keras.applications import VGG16\n",
    "\n",
    "conv_base = VGG16(weights='imagenet',\n",
    "                  include_top=False,\n",
    "                  input_shape=(150, 150, 3))"
   ]
  },
  {
   "cell_type": "code",
   "execution_count": 4,
   "metadata": {},
   "outputs": [
    {
     "name": "stdout",
     "output_type": "stream",
     "text": [
      "_________________________________________________________________\n",
      "Layer (type)                 Output Shape              Param #   \n",
      "=================================================================\n",
      "input_1 (InputLayer)         (None, 150, 150, 3)       0         \n",
      "_________________________________________________________________\n",
      "block1_conv1 (Conv2D)        (None, 150, 150, 64)      1792      \n",
      "_________________________________________________________________\n",
      "block1_conv2 (Conv2D)        (None, 150, 150, 64)      36928     \n",
      "_________________________________________________________________\n",
      "block1_pool (MaxPooling2D)   (None, 75, 75, 64)        0         \n",
      "_________________________________________________________________\n",
      "block2_conv1 (Conv2D)        (None, 75, 75, 128)       73856     \n",
      "_________________________________________________________________\n",
      "block2_conv2 (Conv2D)        (None, 75, 75, 128)       147584    \n",
      "_________________________________________________________________\n",
      "block2_pool (MaxPooling2D)   (None, 37, 37, 128)       0         \n",
      "_________________________________________________________________\n",
      "block3_conv1 (Conv2D)        (None, 37, 37, 256)       295168    \n",
      "_________________________________________________________________\n",
      "block3_conv2 (Conv2D)        (None, 37, 37, 256)       590080    \n",
      "_________________________________________________________________\n",
      "block3_conv3 (Conv2D)        (None, 37, 37, 256)       590080    \n",
      "_________________________________________________________________\n",
      "block3_pool (MaxPooling2D)   (None, 18, 18, 256)       0         \n",
      "_________________________________________________________________\n",
      "block4_conv1 (Conv2D)        (None, 18, 18, 512)       1180160   \n",
      "_________________________________________________________________\n",
      "block4_conv2 (Conv2D)        (None, 18, 18, 512)       2359808   \n",
      "_________________________________________________________________\n",
      "block4_conv3 (Conv2D)        (None, 18, 18, 512)       2359808   \n",
      "_________________________________________________________________\n",
      "block4_pool (MaxPooling2D)   (None, 9, 9, 512)         0         \n",
      "_________________________________________________________________\n",
      "block5_conv1 (Conv2D)        (None, 9, 9, 512)         2359808   \n",
      "_________________________________________________________________\n",
      "block5_conv2 (Conv2D)        (None, 9, 9, 512)         2359808   \n",
      "_________________________________________________________________\n",
      "block5_conv3 (Conv2D)        (None, 9, 9, 512)         2359808   \n",
      "_________________________________________________________________\n",
      "block5_pool (MaxPooling2D)   (None, 4, 4, 512)         0         \n",
      "=================================================================\n",
      "Total params: 14,714,688\n",
      "Trainable params: 14,714,688\n",
      "Non-trainable params: 0\n",
      "_________________________________________________________________\n"
     ]
    }
   ],
   "source": [
    "conv_base.summary()"
   ]
  },
  {
   "cell_type": "code",
   "execution_count": 4,
   "metadata": {},
   "outputs": [
    {
     "name": "stdout",
     "output_type": "stream",
     "text": [
      "D:\\Deep Learning\\DataSet\n"
     ]
    }
   ],
   "source": [
    "original_dataset_dir = 'D:/Deep Learning/DataSet/cars'\n",
    "import os, shutil\n",
    "import numpy as np\n",
    "\n",
    "print(os.getcwd())"
   ]
  },
  {
   "cell_type": "code",
   "execution_count": 5,
   "metadata": {},
   "outputs": [
    {
     "name": "stdout",
     "output_type": "stream",
     "text": [
      "Found 83 images belonging to 2 classes.\n",
      "Found 33 images belonging to 2 classes.\n",
      "Found 33 images belonging to 2 classes.\n"
     ]
    }
   ],
   "source": [
    "import os, shutil\n",
    "import numpy as np\n",
    "import sys\n",
    "from keras.preprocessing.image import ImageDataGenerator\n",
    "\n",
    "base_dir = \"./cars\"\n",
    "\n",
    "train_dir = os.path.join(base_dir, 'train')\n",
    "validation_dir = os.path.join(base_dir, 'test')\n",
    "test_dir = os.path.join(base_dir, 'test')\n",
    "\n",
    "datagen = ImageDataGenerator(rescale=1./255)\n",
    "batch_size = 20\n",
    "\n",
    "def extract_features(directory, sample_count):\n",
    "    features = np.zeros(shape=(sample_count, 4, 4, 512))\n",
    "    labels = np.zeros(shape=(sample_count))\n",
    "    generator = datagen.flow_from_directory(\n",
    "        directory,\n",
    "        target_size=(150, 150),\n",
    "        batch_size=batch_size,\n",
    "        class_mode='binary')\n",
    "    i = 0\n",
    "    for inputs_batch, labels_batch in generator:\n",
    "        features_batch = conv_base.predict(inputs_batch)\n",
    "        features[i * batch_size : (i + 1) * batch_size] = features_batch\n",
    "        labels[i * batch_size : (i + 1) * batch_size] = labels_batch\n",
    "        i += 1\n",
    "        if i * batch_size >= sample_count:\n",
    "            # Note that since generators yield data indefinitely in a loop,\n",
    "            # we must `break` after every image has been seen once.\n",
    "            break\n",
    "    return features, labels\n",
    "\n",
    "train_features, train_labels = extract_features(train_dir, 83)\n",
    "validation_features, validation_labels = extract_features(test_dir, 33)\n",
    "test_features, test_labels = extract_features(test_dir, 33)"
   ]
  },
  {
   "cell_type": "code",
   "execution_count": 7,
   "metadata": {},
   "outputs": [],
   "source": [
    "train_features = np.reshape(train_features, (83, 4 * 4 * 512))\n",
    "validation_features = np.reshape(validation_features, (33, 4 * 4 * 512))\n",
    "test_features = np.reshape(test_features, (33, 4 * 4 * 512))"
   ]
  },
  {
   "cell_type": "code",
   "execution_count": 8,
   "metadata": {},
   "outputs": [
    {
     "name": "stdout",
     "output_type": "stream",
     "text": [
      "Train on 83 samples, validate on 33 samples\n",
      "Epoch 1/30\n",
      "83/83 [==============================] - 3s 41ms/step - loss: 0.7272 - acc: 0.5542 - val_loss: 0.6752 - val_acc: 0.5758\n",
      "Epoch 2/30\n",
      "83/83 [==============================] - 0s 5ms/step - loss: 0.7621 - acc: 0.5181 - val_loss: 0.6808 - val_acc: 0.6061\n",
      "Epoch 3/30\n",
      "83/83 [==============================] - 0s 5ms/step - loss: 0.6964 - acc: 0.5783 - val_loss: 0.6395 - val_acc: 0.6364\n",
      "Epoch 4/30\n",
      "83/83 [==============================] - 0s 5ms/step - loss: 0.6460 - acc: 0.6024 - val_loss: 0.6411 - val_acc: 0.6970\n",
      "Epoch 5/30\n",
      "83/83 [==============================] - 0s 4ms/step - loss: 0.6201 - acc: 0.6506 - val_loss: 0.6569 - val_acc: 0.6061\n",
      "Epoch 6/30\n",
      "83/83 [==============================] - 0s 4ms/step - loss: 0.6506 - acc: 0.6627 - val_loss: 0.6189 - val_acc: 0.6970\n",
      "Epoch 7/30\n",
      "83/83 [==============================] - 0s 4ms/step - loss: 0.5871 - acc: 0.7229 - val_loss: 0.6312 - val_acc: 0.6667\n",
      "Epoch 8/30\n",
      "83/83 [==============================] - 0s 4ms/step - loss: 0.5300 - acc: 0.7711 - val_loss: 0.6230 - val_acc: 0.6667\n",
      "Epoch 9/30\n",
      "83/83 [==============================] - 0s 4ms/step - loss: 0.6062 - acc: 0.6265 - val_loss: 0.6247 - val_acc: 0.6364\n",
      "Epoch 10/30\n",
      "83/83 [==============================] - 0s 3ms/step - loss: 0.5217 - acc: 0.7831 - val_loss: 0.5794 - val_acc: 0.7273\n",
      "Epoch 11/30\n",
      "83/83 [==============================] - 0s 3ms/step - loss: 0.5088 - acc: 0.7108 - val_loss: 0.5929 - val_acc: 0.7273\n",
      "Epoch 12/30\n",
      "83/83 [==============================] - 0s 3ms/step - loss: 0.4523 - acc: 0.8434 - val_loss: 0.5654 - val_acc: 0.7576\n",
      "Epoch 13/30\n",
      "83/83 [==============================] - 0s 3ms/step - loss: 0.4760 - acc: 0.7831 - val_loss: 0.5725 - val_acc: 0.7273\n",
      "Epoch 14/30\n",
      "83/83 [==============================] - 0s 2ms/step - loss: 0.4141 - acc: 0.8675 - val_loss: 0.5714 - val_acc: 0.7273\n",
      "Epoch 15/30\n",
      "83/83 [==============================] - 0s 3ms/step - loss: 0.4235 - acc: 0.8313 - val_loss: 0.5551 - val_acc: 0.7273\n",
      "Epoch 16/30\n",
      "83/83 [==============================] - 0s 3ms/step - loss: 0.4004 - acc: 0.8193 - val_loss: 0.5350 - val_acc: 0.7273\n",
      "Epoch 17/30\n",
      "83/83 [==============================] - 0s 3ms/step - loss: 0.3738 - acc: 0.8554 - val_loss: 0.5247 - val_acc: 0.7273\n",
      "Epoch 18/30\n",
      "83/83 [==============================] - 0s 3ms/step - loss: 0.3313 - acc: 0.9518 - val_loss: 0.5182 - val_acc: 0.7273\n",
      "Epoch 19/30\n",
      "83/83 [==============================] - 0s 3ms/step - loss: 0.4200 - acc: 0.8072 - val_loss: 0.5091 - val_acc: 0.7273\n",
      "Epoch 20/30\n",
      "83/83 [==============================] - 0s 3ms/step - loss: 0.3007 - acc: 0.9518 - val_loss: 0.5066 - val_acc: 0.7273\n",
      "Epoch 21/30\n",
      "83/83 [==============================] - 0s 3ms/step - loss: 0.3097 - acc: 0.9277 - val_loss: 0.5155 - val_acc: 0.7273\n",
      "Epoch 22/30\n",
      "83/83 [==============================] - 0s 3ms/step - loss: 0.3066 - acc: 0.9398 - val_loss: 0.5074 - val_acc: 0.7273\n",
      "Epoch 23/30\n",
      "83/83 [==============================] - 0s 3ms/step - loss: 0.3216 - acc: 0.8795 - val_loss: 0.4935 - val_acc: 0.6970\n",
      "Epoch 24/30\n",
      "83/83 [==============================] - 0s 3ms/step - loss: 0.3313 - acc: 0.9277 - val_loss: 0.4928 - val_acc: 0.7273\n",
      "Epoch 25/30\n",
      "83/83 [==============================] - 0s 3ms/step - loss: 0.2878 - acc: 0.9518 - val_loss: 0.4738 - val_acc: 0.7576\n",
      "Epoch 26/30\n",
      "83/83 [==============================] - 0s 3ms/step - loss: 0.2565 - acc: 0.9759 - val_loss: 0.4937 - val_acc: 0.7273\n",
      "Epoch 27/30\n",
      "83/83 [==============================] - 0s 3ms/step - loss: 0.2649 - acc: 0.9759 - val_loss: 0.4705 - val_acc: 0.6970\n",
      "Epoch 28/30\n",
      "83/83 [==============================] - 0s 3ms/step - loss: 0.2429 - acc: 0.9398 - val_loss: 0.4795 - val_acc: 0.7273\n",
      "Epoch 29/30\n",
      "83/83 [==============================] - 0s 3ms/step - loss: 0.2203 - acc: 0.9880 - val_loss: 0.4680 - val_acc: 0.7273\n",
      "Epoch 30/30\n",
      "83/83 [==============================] - 0s 3ms/step - loss: 0.2456 - acc: 0.9518 - val_loss: 0.4828 - val_acc: 0.7273\n"
     ]
    }
   ],
   "source": [
    "##  Vgg  به بک شبکه  FC  داده شده است خروجی شبکه \n",
    "\n",
    "from keras import models\n",
    "\n",
    "from keras import layers\n",
    "from keras import optimizers\n",
    "\n",
    "model = models.Sequential()\n",
    "model.add(layers.Dense(256, activation='relu', input_dim=4 * 4 * 512))\n",
    "model.add(layers.Dropout(0.5))\n",
    "model.add(layers.Dense(1, activation='sigmoid'))\n",
    "\n",
    "model.compile(optimizer=optimizers.RMSprop(lr=2e-5),\n",
    "              loss='binary_crossentropy',\n",
    "              metrics=['acc'])\n",
    "\n",
    "history = model.fit(train_features, train_labels,\n",
    "                    epochs=30,\n",
    "                    batch_size=20,\n",
    "                    validation_data=(validation_features, validation_labels))"
   ]
  },
  {
   "cell_type": "code",
   "execution_count": 17,
   "metadata": {},
   "outputs": [
    {
     "data": {
      "image/png": "[encoded data removed]",
      "text/plain": [
       "<Figure size 432x288 with 1 Axes>"
      ]
     },
     "metadata": {
      "needs_background": "light"
     },
     "output_type": "display_data"
    },
    {
     "data": {
      "image/png": "[encoded data removed]",
      "text/plain": [
       "<Figure size 432x288 with 1 Axes>"
      ]
     },
     "metadata": {
      "needs_background": "light"
     },
     "output_type": "display_data"
    }
   ],
   "source": [
    "import matplotlib.pyplot as plt\n",
    "%matplotlib inline\n",
    "acc = history.history['acc']\n",
    "val_acc = history.history['val_acc']\n",
    "loss = history.history['loss']\n",
    "val_loss = history.history['val_loss']\n",
    "\n",
    "epochs = range(len(acc))\n",
    "\n",
    "plt.plot(epochs, acc, 'r.', label='Training acc')\n",
    "plt.plot(epochs, val_acc, 'b', label='Validation acc')\n",
    "plt.title('Training and validation accuracy')\n",
    "plt.legend()\n",
    "\n",
    "plt.figure()\n",
    "\n",
    "plt.plot(epochs, loss, 'r.', label='Training loss')\n",
    "plt.plot(epochs, val_loss, 'b', label='Validation loss')\n",
    "plt.title('Training and validation loss')\n",
    "plt.legend()\n",
    "\n",
    "plt.show()\n",
    "\n",
    "### شبکه Transfer Learning  از شبکه کانولوشنی بهتر عمل مینماید \n",
    "####مشکل این است که بیش برازش یا overfit داریم\n",
    "####  drop out هم دارد\n",
    "#### یک روش دیگر استفاده از دیتا Augmentation بود \n",
    "## ولی در این شبکه وزن های آموزش داده وجود دارند\n",
    "### "
   ]
  },
  {
   "cell_type": "code",
   "execution_count": 10,
   "metadata": {},
   "outputs": [],
   "source": [
    "from keras import models\n",
    "from keras import layers\n",
    "\n",
    "model = models.Sequential()\n",
    "model.add(conv_base)\n",
    "model.add(layers.Flatten())\n",
    "model.add(layers.Dense(256, activation='relu'))\n",
    "model.add(layers.Dense(1, activation='sigmoid'))\n",
    "### conv base همان شبکه Vgg 16 است که به عنوان یک لایه در این شبکه دیده شده است "
   ]
  },
  {
   "cell_type": "code",
   "execution_count": 11,
   "metadata": {},
   "outputs": [
    {
     "name": "stdout",
     "output_type": "stream",
     "text": [
      "_________________________________________________________________\n",
      "Layer (type)                 Output Shape              Param #   \n",
      "=================================================================\n",
      "vgg16 (Model)                (None, 4, 4, 512)         14714688  \n",
      "_________________________________________________________________\n",
      "flatten_1 (Flatten)          (None, 8192)              0         \n",
      "_________________________________________________________________\n",
      "dense_3 (Dense)              (None, 256)               2097408   \n",
      "_________________________________________________________________\n",
      "dense_4 (Dense)              (None, 1)                 257       \n",
      "=================================================================\n",
      "Total params: 16,812,353\n",
      "Trainable params: 16,812,353\n",
      "Non-trainable params: 0\n",
      "_________________________________________________________________\n"
     ]
    }
   ],
   "source": [
    "model.summary()"
   ]
  },
  {
   "cell_type": "code",
   "execution_count": 19,
   "metadata": {},
   "outputs": [
    {
     "name": "stdout",
     "output_type": "stream",
     "text": [
      "This is the number of trainable weights before freezing the conv base: 30\n"
     ]
    }
   ],
   "source": [
    "print('This is the number of trainable weights '\n",
    "      'before freezing the conv base:', len(model.trainable_weights))"
   ]
  },
  {
   "cell_type": "code",
   "execution_count": 12,
   "metadata": {},
   "outputs": [],
   "source": [
    "conv_base.trainable = False\n",
    "### این دستور برای این است که وزن های vgg  را تغییر ندهد "
   ]
  },
  {
   "cell_type": "code",
   "execution_count": 13,
   "metadata": {},
   "outputs": [
    {
     "name": "stdout",
     "output_type": "stream",
     "text": [
      "This is the number of trainable weights after freezing the conv base: 4\n"
     ]
    }
   ],
   "source": [
    "print('This is the number of trainable weights '\n",
    "      'after freezing the conv base:', len(model.trainable_weights))"
   ]
  },
  {
   "cell_type": "code",
   "execution_count": 14,
   "metadata": {},
   "outputs": [
    {
     "name": "stdout",
     "output_type": "stream",
     "text": [
      "Found 83 images belonging to 2 classes.\n",
      "Found 33 images belonging to 2 classes.\n",
      "Epoch 1/20\n",
      " - 90s - loss: 0.7278 - acc: 0.5618 - val_loss: 0.6671 - val_acc: 0.5758\n",
      "Epoch 2/20\n",
      " - 90s - loss: 0.6462 - acc: 0.6048 - val_loss: 0.6505 - val_acc: 0.6061\n",
      "Epoch 3/20\n",
      " - 89s - loss: 0.6427 - acc: 0.6543 - val_loss: 0.6368 - val_acc: 0.6364\n",
      "Epoch 4/20\n",
      " - 86s - loss: 0.6104 - acc: 0.6542 - val_loss: 0.5968 - val_acc: 0.6970\n",
      "Epoch 5/20\n",
      " - 90s - loss: 0.5465 - acc: 0.7780 - val_loss: 0.5527 - val_acc: 0.7879\n",
      "Epoch 6/20\n",
      " - 89s - loss: 0.5598 - acc: 0.7407 - val_loss: 0.5738 - val_acc: 0.6970\n",
      "Epoch 7/20\n",
      " - 78s - loss: 0.4896 - acc: 0.8211 - val_loss: 0.5839 - val_acc: 0.6970\n",
      "Epoch 8/20\n",
      " - 84s - loss: 0.5227 - acc: 0.7964 - val_loss: 0.5078 - val_acc: 0.7879\n",
      "Epoch 9/20\n",
      " - 83s - loss: 0.4485 - acc: 0.8394 - val_loss: 0.5015 - val_acc: 0.7879\n",
      "Epoch 10/20\n",
      " - 87s - loss: 0.4500 - acc: 0.8148 - val_loss: 0.4999 - val_acc: 0.7879\n",
      "Epoch 11/20\n",
      " - 83s - loss: 0.4230 - acc: 0.8705 - val_loss: 0.5485 - val_acc: 0.6667\n",
      "Epoch 12/20\n",
      " - 84s - loss: 0.4358 - acc: 0.8888 - val_loss: 0.4688 - val_acc: 0.8182\n",
      "Epoch 13/20\n",
      " - 84s - loss: 0.4092 - acc: 0.8272 - val_loss: 0.4675 - val_acc: 0.7879\n",
      "Epoch 14/20\n",
      " - 84s - loss: 0.4223 - acc: 0.8458 - val_loss: 0.4387 - val_acc: 0.8485\n",
      "Epoch 15/20\n",
      " - 89s - loss: 0.4383 - acc: 0.8023 - val_loss: 0.5018 - val_acc: 0.6667\n",
      "Epoch 16/20\n",
      " - 88s - loss: 0.3626 - acc: 0.8765 - val_loss: 0.4200 - val_acc: 0.8485\n",
      "Epoch 17/20\n",
      " - 89s - loss: 0.3606 - acc: 0.9135 - val_loss: 0.4686 - val_acc: 0.6970\n",
      "Epoch 18/20\n",
      " - 88s - loss: 0.3383 - acc: 0.8765 - val_loss: 0.4924 - val_acc: 0.6364\n",
      "Epoch 19/20\n",
      " - 84s - loss: 0.2994 - acc: 0.9012 - val_loss: 0.4818 - val_acc: 0.6667\n",
      "Epoch 20/20\n",
      " - 77s - loss: 0.3572 - acc: 0.9012 - val_loss: 0.4100 - val_acc: 0.8485\n"
     ]
    }
   ],
   "source": [
    "######## Augmentation  استفاده از  ########\n",
    "\n",
    "from keras.preprocessing.image import ImageDataGenerator\n",
    "\n",
    "train_datagen = ImageDataGenerator(\n",
    "      rescale=1./255,\n",
    "      rotation_range=40,\n",
    "      width_shift_range=0.2,\n",
    "      height_shift_range=0.2,\n",
    "      shear_range=0.2,\n",
    "      zoom_range=0.2,\n",
    "      horizontal_flip=True,\n",
    "      fill_mode='nearest')\n",
    "\n",
    "# Note that the validation data should not be augmented!\n",
    "test_datagen = ImageDataGenerator(rescale=1./255)\n",
    "\n",
    "train_generator = train_datagen.flow_from_directory(\n",
    "        # This is the target directory\n",
    "        train_dir,\n",
    "        # All images will be resized to 150x150\n",
    "        target_size=(150, 150),\n",
    "        batch_size=3,\n",
    "        # Since we use binary_crossentropy loss, we need binary labels\n",
    "        class_mode='binary')\n",
    "\n",
    "validation_generator = test_datagen.flow_from_directory(\n",
    "        validation_dir,\n",
    "        target_size=(150, 150),\n",
    "        batch_size=3,\n",
    "        class_mode='binary')\n",
    "\n",
    "model.compile(loss='binary_crossentropy',\n",
    "              optimizer=optimizers.RMSprop(lr=2e-5),\n",
    "              metrics=['acc'])\n",
    " \n",
    "history = model.fit_generator(\n",
    "      train_generator,\n",
    "      steps_per_epoch=27,\n",
    "      epochs=20,\n",
    "      validation_data=validation_generator,\n",
    "      validation_steps=11,\n",
    "      verbose=2)"
   ]
  },
  {
   "cell_type": "markdown",
   "metadata": {},
   "source": [
    " "
   ]
  },
  {
   "cell_type": "markdown",
   "metadata": {},
   "source": [
    " <div style=\"direction:rtl;text-align:right;font-family:Tahoma\">\n",
    "ترسیم مقدار\n",
    "Augentation پس از استفاده از   acc\n",
    "</div>"
   ]
  },
  {
   "cell_type": "code",
   "execution_count": 16,
   "metadata": {},
   "outputs": [
    {
     "data": {
      "image/png": "[encoded data removed]",
      "text/plain": [
       "<Figure size 432x288 with 1 Axes>"
      ]
     },
     "metadata": {
      "needs_background": "light"
     },
     "output_type": "display_data"
    },
    {
     "data": {
      "image/png": "[encoded data removed]",
      "text/plain": [
       "<Figure size 432x288 with 1 Axes>"
      ]
     },
     "metadata": {
      "needs_background": "light"
     },
     "output_type": "display_data"
    }
   ],
   "source": [
    "### همانطور که ملاحظه میشود پس از این روش acc  افزایش و خطا کاهش میابد ، دقت پیش بینی افزایش میابد\n",
    "acc = history.history['acc']\n",
    "val_acc = history.history['val_acc']\n",
    "loss = history.history['loss']\n",
    "val_loss = history.history['val_loss']\n",
    "\n",
    "epochs = range(len(acc))\n",
    "\n",
    "plt.plot(epochs, acc, 'r.', label='Training acc')\n",
    "plt.plot(epochs, val_acc, 'b', label='Validation acc')\n",
    "plt.title('Training and validation accuracy')\n",
    "plt.legend()\n",
    "\n",
    "plt.figure()\n",
    "\n",
    "plt.plot(epochs, loss, 'r.', label='Training loss')\n",
    "plt.plot(epochs, val_loss, 'b', label='Validation loss')\n",
    "plt.title('Training and validation loss')\n",
    "plt.legend()\n",
    "\n",
    "plt.show()"
   ]
  },
  {
   "cell_type": "markdown",
   "metadata": {},
   "source": [
    " <div style=\"direction:rtl;text-align:right;font-family:Tahoma\">\n",
    "بنظر میرسد یکی از دلایل پایین بودن دقت مدل در این مساله، وجود داده های محدود و تصاویری با زوایا و کیفیت های متفاوت باشد\n",
    "</div>"
   ]
  },
  {
   "cell_type": "markdown",
   "metadata": {},
   "source": [
    "\n",
    "<h1><center><div style=\"direction:rtl;font-family:B Lotus, B Nazanin, Tahoma\">  با تشکر از زحمات استاد جناب مهندس علیرضا اخوان پور </h1>"
   ]
  },
  {
   "cell_type": "markdown",
   "metadata": {},
   "source": [
    "Linkedin Account: linkedin.com/in/sts-sadr\n",
    "\n",
    "Researchgate Account: researchgate.net/profile/Staha_Seyedsadr\n",
    "\n",
    "Orcid ID: 0000-0003-1249-0679\n",
    "\n",
    "Mendely Account: mendeley.com/profiles/taha-seyedsadr2\n"
   ]
  },
  {
   "cell_type": "markdown",
   "metadata": {},
   "source": []
  }
 ],
 "metadata": {
  "anaconda-cloud": {},
  "kernelspec": {
   "display_name": "Python 3",
   "language": "python",
   "name": "python3"
  },
  "language_info": {
   "codemirror_mode": {
    "name": "ipython",
    "version": 3
   },
   "file_extension": ".py",
   "mimetype": "text/x-python",
   "name": "python",
   "nbconvert_exporter": "python",
   "pygments_lexer": "ipython3",
   "version": "3.5.6"
  }
 },
 "nbformat": 4,
 "nbformat_minor": 2
}
